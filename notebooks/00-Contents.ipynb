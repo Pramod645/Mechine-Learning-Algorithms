{
 "cells": [
  {
   "cell_type": "markdown",
   "metadata": {},
   "source": [
    "# Machine Learning Notebooks"
   ]
  },
  {
   "cell_type": "markdown",
   "metadata": {},
   "source": [
    "These notebooks will dive into the basic practical aspects of machine learning, primarily using Python's [Scikit-Learn](http://scikit-learn.org) package. The goals of these notebooks are primarily:\n",
    "\n",
    "- To introduce the fundamental vocabulary and concepts of machine learning.\n",
    "- To introduce the Scikit-Learn API and show some examples of its use.\n",
    "- To take a deeper dive into the details of several of the most important machine learning approaches, and develop an intuition into how they work and when and where they are applicable.\n",
    "\n",
    "Much of this material is drawn from the Scikit-Learn tutorials.\n",
    "\n",
    "### Contents\n",
    "- [What Is Machine Learning](01-What-Is-Machine-Learning.ipynb)\n",
    "- [Introducing Scikit-Learn](02-Introducing-Scikit-Learn.ipynb)\n",
    "- [Hyperparameters and Model Validation](03-Hyperparameters-and-Model-Validation.ipynb)\n",
    "- [Feature Engineering](04-Feature-Engineering.ipynb)\n",
    "- [Naive Bayes Classification](05-Naive-Bayes.ipynb)\n",
    "- [Linear Regression](06-Linear-Regression.ipynb)\n",
    "- [Support Vector Machines](07-Support-Vector-Machines.ipynb)\n",
    "- [Decision Trees and Random Forests](08-Random-Forests.ipynb)\n",
    "- [Principal Component Analysis](09-Principal-Component-Analysis.ipynb)\n",
    "- [Manifold Learning](10-Manifold-Learning.ipynb)\n",
    "- [k-Means Clustering](11-K-Means.ipynb)\n",
    "- [Gaussian Mixture Models](12-Gaussian-Mixtures.ipynb)\n",
    "- [Kernel Density Estimation](13-Kernel-Density-Estimation.ipynb)\n",
    "- [A Face Detection Pipeline](14-Image-Features.ipynb)\n"
   ]
  },
  {
   "cell_type": "markdown",
   "metadata": {},
   "source": [
    "*Code adapted from Vanderplas \"Python Data Science Handbook\" and the Scikit-Learn library tutorials.* "
   ]
  }
 ],
 "metadata": {
  "anaconda-cloud": {},
  "kernelspec": {
   "display_name": "Python 3",
   "language": "python",
   "name": "python3"
  },
  "language_info": {
   "codemirror_mode": {
    "name": "ipython",
    "version": 3
   },
   "file_extension": ".py",
   "mimetype": "text/x-python",
   "name": "python",
   "nbconvert_exporter": "python",
   "pygments_lexer": "ipython3",
   "version": "3.6.4"
  }
 },
 "nbformat": 4,
 "nbformat_minor": 1
}
